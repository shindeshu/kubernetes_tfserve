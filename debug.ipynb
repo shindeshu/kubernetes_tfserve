{
 "cells": [
  {
   "cell_type": "markdown",
   "id": "9ba6d847-0711-485a-9528-cb8a134c5f58",
   "metadata": {},
   "source": [
    "### gRPC Server"
   ]
  },
  {
   "cell_type": "code",
   "execution_count": 41,
   "id": "6ea956fb-a447-4af0-9236-a7c27fdbb8c0",
   "metadata": {},
   "outputs": [],
   "source": [
    "import grpc\n",
    "\n",
    "import tensorflow as tf\n",
    "\n",
    "from tensorflow_serving.apis import predict_pb2\n",
    "from tensorflow_serving.apis import prediction_service_pb2_grpc"
   ]
  },
  {
   "cell_type": "code",
   "execution_count": 42,
   "id": "6c94e2d8-73c0-47df-a6c6-c71262b21534",
   "metadata": {},
   "outputs": [],
   "source": [
    "from tensorflow.core.framework import tensor_pb2, tensor_shape_pb2, types_pb2\n",
    "\n",
    "def dtypes_as_dtype(dtype):\n",
    "    if dtype == \"float32\":\n",
    "        return types_pb2.DT_FLOAT\n",
    "    raise Exception(\"dtype %s is not supported\" % dtype)\n",
    "\n",
    "\n",
    "def make_tensor_proto(data):\n",
    "    shape = data.shape\n",
    "    dims = [tensor_shape_pb2.TensorShapeProto.Dim(size=i) for i in shape]\n",
    "    proto_shape = tensor_shape_pb2.TensorShapeProto(dim=dims)\n",
    "\n",
    "    proto_dtype = dtypes_as_dtype(data.dtype)\n",
    "\n",
    "    tensor_proto = tensor_pb2.TensorProto(dtype=proto_dtype, tensor_shape=proto_shape)\n",
    "    tensor_proto.tensor_content = data.tostring()\n",
    "\n",
    "    return tensor_proto"
   ]
  },
  {
   "cell_type": "code",
   "execution_count": 43,
   "id": "0ae0c195-8572-4664-9aee-b58ce00b5c18",
   "metadata": {},
   "outputs": [],
   "source": [
    "def np_to_protobuf(data):\n",
    "    return make_tensor_proto(data)\n",
    "    # return tf.make_tensor_proto(data, shape=data.shape)"
   ]
  },
  {
   "cell_type": "code",
   "execution_count": 1,
   "id": "3b696b10-ef70-4da3-a678-ea7580e0ed65",
   "metadata": {},
   "outputs": [],
   "source": [
    "from PIL import Image\n",
    "from io import BytesIO\n",
    "import numpy as np\n",
    "import requests\n",
    "\n",
    "def load_image(path, from_url=True, process=True):\n",
    "    \"\"\"\n",
    "    Custom preprocessing function. \n",
    "    \"\"\"\n",
    "    if from_url:\n",
    "        response = requests.get(path)\n",
    "        img = Image.open(BytesIO(response.content))\n",
    "    else:\n",
    "        img = Image.open(path)\n",
    "    if process:\n",
    "        img = img.resize((224,224), Image.Resampling.LANCZOS)\n",
    "        img = np.array(img, dtype=np.float32)\n",
    "        img = img * (1./255)\n",
    "    return np.asarray([img])"
   ]
  },
  {
   "cell_type": "code",
   "execution_count": 2,
   "id": "de9e2aa2-dfc7-4d13-b616-4d2aa9a5fdec",
   "metadata": {},
   "outputs": [],
   "source": [
    "url = \"https://t4.ftcdn.net/jpg/00/97/58/97/360_F_97589769_t45CqXyzjz0KXwoBZT9PRaWGHRk5hQqQ.jpg\""
   ]
  },
  {
   "cell_type": "code",
   "execution_count": 3,
   "id": "c1880ecb-49bf-4068-98bf-cf0443cebd12",
   "metadata": {},
   "outputs": [],
   "source": [
    "X = load_image(url)"
   ]
  },
  {
   "cell_type": "code",
   "execution_count": null,
   "id": "36380334-428d-4c22-ac5d-bcd5a7e4d716",
   "metadata": {},
   "outputs": [],
   "source": [
    "docker run -it --rm \\\n",
    "  -p 8500:8500 \\\n",
    "  zoomcamp-10-model:xception-v4-001"
   ]
  },
  {
   "cell_type": "code",
   "execution_count": 7,
   "id": "f2f1ec78-2353-4bd9-acae-8e631dd98346",
   "metadata": {},
   "outputs": [],
   "source": [
    "host = 'localhost:8500'\n",
    "\n",
    "channel = grpc.insecure_channel(host)\n",
    "\n",
    "stub = prediction_service_pb2_grpc.PredictionServiceStub(channel)"
   ]
  },
  {
   "cell_type": "code",
   "execution_count": 9,
   "id": "a8cba32c-ec6d-454e-aabd-bfda86b894da",
   "metadata": {},
   "outputs": [
    {
     "name": "stdout",
     "output_type": "stream",
     "text": [
      "<class 'google.protobuf.pyext._message.MessageMapContainer'>\n",
      "<class 'google.protobuf.pyext._message.MessageMapContainer'>\n"
     ]
    }
   ],
   "source": [
    "pb_request = predict_pb2.PredictRequest()\n",
    "\n",
    "print(type(pb_request.inputs))\n",
    "\n",
    "pb_request.model_spec.name = 'cats_and_dogs'\n",
    "pb_request.model_spec.signature_name = 'serving_default'\n",
    "\n",
    "print(type(pb_request.inputs))"
   ]
  },
  {
   "cell_type": "code",
   "execution_count": 10,
   "id": "8274f4b5-cb35-4129-8275-4e5b54dbcf35",
   "metadata": {},
   "outputs": [
    {
     "name": "stderr",
     "output_type": "stream",
     "text": [
      "C:\\Users\\dell\\AppData\\Local\\Temp\\ipykernel_16012\\3268910938.py:17: DeprecationWarning: tostring() is deprecated. Use tobytes() instead.\n",
      "  tensor_proto.tensor_content = data.tostring()\n"
     ]
    }
   ],
   "source": [
    "pb_request.inputs['input_1'].CopyFrom(np_to_protobuf(X))"
   ]
  },
  {
   "cell_type": "code",
   "execution_count": 11,
   "id": "d314ba3a-79c3-4609-9af7-0b3cbf52cc60",
   "metadata": {},
   "outputs": [
    {
     "name": "stdout",
     "output_type": "stream",
     "text": [
      "<class 'google.protobuf.pyext._message.MessageMapContainer'>\n"
     ]
    }
   ],
   "source": [
    "print(type(pb_request.inputs))"
   ]
  },
  {
   "cell_type": "code",
   "execution_count": 12,
   "id": "8011599e-9ab6-42a4-a20f-937836746e96",
   "metadata": {},
   "outputs": [
    {
     "ename": "_InactiveRpcError",
     "evalue": "<_InactiveRpcError of RPC that terminated with:\n\tstatus = StatusCode.UNAVAILABLE\n\tdetails = \"failed to connect to all addresses; last error: UNAVAILABLE: ipv4:127.0.0.1:8500: Connection refused\"\n\tdebug_error_string = \"UNKNOWN:failed to connect to all addresses; last error: UNAVAILABLE: ipv4:127.0.0.1:8500: Connection refused {created_time:\"2023-12-27T19:35:42.5937213+00:00\", grpc_status:14}\"\n>",
     "output_type": "error",
     "traceback": [
      "\u001b[1;31m---------------------------------------------------------------------------\u001b[0m",
      "\u001b[1;31m_InactiveRpcError\u001b[0m                         Traceback (most recent call last)",
      "Cell \u001b[1;32mIn[12], line 1\u001b[0m\n\u001b[1;32m----> 1\u001b[0m pb_response \u001b[38;5;241m=\u001b[39m \u001b[43mstub\u001b[49m\u001b[38;5;241;43m.\u001b[39;49m\u001b[43mPredict\u001b[49m\u001b[43m(\u001b[49m\u001b[43mpb_request\u001b[49m\u001b[43m,\u001b[49m\u001b[43m \u001b[49m\u001b[43mtimeout\u001b[49m\u001b[38;5;241;43m=\u001b[39;49m\u001b[38;5;241;43m20.0\u001b[39;49m\u001b[43m)\u001b[49m\n",
      "File \u001b[1;32m~\\miniconda3\\envs\\serv\\lib\\site-packages\\grpc\\_channel.py:1161\u001b[0m, in \u001b[0;36m_UnaryUnaryMultiCallable.__call__\u001b[1;34m(self, request, timeout, metadata, credentials, wait_for_ready, compression)\u001b[0m\n\u001b[0;32m   1146\u001b[0m \u001b[38;5;28;01mdef\u001b[39;00m \u001b[38;5;21m__call__\u001b[39m(\n\u001b[0;32m   1147\u001b[0m     \u001b[38;5;28mself\u001b[39m,\n\u001b[0;32m   1148\u001b[0m     request: Any,\n\u001b[1;32m   (...)\u001b[0m\n\u001b[0;32m   1153\u001b[0m     compression: Optional[grpc\u001b[38;5;241m.\u001b[39mCompression] \u001b[38;5;241m=\u001b[39m \u001b[38;5;28;01mNone\u001b[39;00m,\n\u001b[0;32m   1154\u001b[0m ) \u001b[38;5;241m-\u001b[39m\u001b[38;5;241m>\u001b[39m Any:\n\u001b[0;32m   1155\u001b[0m     (\n\u001b[0;32m   1156\u001b[0m         state,\n\u001b[0;32m   1157\u001b[0m         call,\n\u001b[0;32m   1158\u001b[0m     ) \u001b[38;5;241m=\u001b[39m \u001b[38;5;28mself\u001b[39m\u001b[38;5;241m.\u001b[39m_blocking(\n\u001b[0;32m   1159\u001b[0m         request, timeout, metadata, credentials, wait_for_ready, compression\n\u001b[0;32m   1160\u001b[0m     )\n\u001b[1;32m-> 1161\u001b[0m     \u001b[38;5;28;01mreturn\u001b[39;00m \u001b[43m_end_unary_response_blocking\u001b[49m\u001b[43m(\u001b[49m\u001b[43mstate\u001b[49m\u001b[43m,\u001b[49m\u001b[43m \u001b[49m\u001b[43mcall\u001b[49m\u001b[43m,\u001b[49m\u001b[43m \u001b[49m\u001b[38;5;28;43;01mFalse\u001b[39;49;00m\u001b[43m,\u001b[49m\u001b[43m \u001b[49m\u001b[38;5;28;43;01mNone\u001b[39;49;00m\u001b[43m)\u001b[49m\n",
      "File \u001b[1;32m~\\miniconda3\\envs\\serv\\lib\\site-packages\\grpc\\_channel.py:1004\u001b[0m, in \u001b[0;36m_end_unary_response_blocking\u001b[1;34m(state, call, with_call, deadline)\u001b[0m\n\u001b[0;32m   1002\u001b[0m         \u001b[38;5;28;01mreturn\u001b[39;00m state\u001b[38;5;241m.\u001b[39mresponse\n\u001b[0;32m   1003\u001b[0m \u001b[38;5;28;01melse\u001b[39;00m:\n\u001b[1;32m-> 1004\u001b[0m     \u001b[38;5;28;01mraise\u001b[39;00m _InactiveRpcError(state)\n",
      "\u001b[1;31m_InactiveRpcError\u001b[0m: <_InactiveRpcError of RPC that terminated with:\n\tstatus = StatusCode.UNAVAILABLE\n\tdetails = \"failed to connect to all addresses; last error: UNAVAILABLE: ipv4:127.0.0.1:8500: Connection refused\"\n\tdebug_error_string = \"UNKNOWN:failed to connect to all addresses; last error: UNAVAILABLE: ipv4:127.0.0.1:8500: Connection refused {created_time:\"2023-12-27T19:35:42.5937213+00:00\", grpc_status:14}\"\n>"
     ]
    }
   ],
   "source": [
    "pb_response = stub.Predict(pb_request, timeout=20.0)"
   ]
  },
  {
   "cell_type": "code",
   "execution_count": null,
   "id": "1f839074-4e77-423a-83a3-d784fc4fd8d3",
   "metadata": {},
   "outputs": [],
   "source": [
    "preds = pb_response.outputs['dense_3'].float_val"
   ]
  },
  {
   "cell_type": "code",
   "execution_count": 25,
   "id": "6ea90f3f-9faa-4a0d-85ac-87e653f4c8c4",
   "metadata": {},
   "outputs": [
    {
     "data": {
      "text/plain": [
       "[1.0, 6.131807301495984e-12]"
      ]
     },
     "execution_count": 25,
     "metadata": {},
     "output_type": "execute_result"
    }
   ],
   "source": [
    "preds"
   ]
  },
  {
   "cell_type": "code",
   "execution_count": 29,
   "id": "c80b9e0b-15ac-4ab0-8fea-fa2545f071b6",
   "metadata": {},
   "outputs": [
    {
     "name": "stdout",
     "output_type": "stream",
     "text": [
      "*********************Host:  localhost:8500\n",
      "{'cat': 1.0, 'dog': 6.131807301495984e-12}\n"
     ]
    }
   ],
   "source": [
    "!python gateway.py"
   ]
  },
  {
   "cell_type": "markdown",
   "id": "60ea0b5a-2b62-4ea0-86e3-f7993ab5fa38",
   "metadata": {},
   "source": [
    "### Rest API Server"
   ]
  },
  {
   "cell_type": "code",
   "execution_count": 61,
   "id": "a41e9a4a-3a4f-4dfd-859d-46b5d1867e1b",
   "metadata": {},
   "outputs": [],
   "source": [
    "# X.tolist()\n",
    "import requests\n",
    "import json"
   ]
  },
  {
   "cell_type": "code",
   "execution_count": 58,
   "id": "315be533-e276-4455-a00d-d76653d41f31",
   "metadata": {},
   "outputs": [],
   "source": [
    "model_url = \"http://localhost:8501/v1/models/cats_and_dogs:predict\""
   ]
  },
  {
   "cell_type": "code",
   "execution_count": 49,
   "id": "be3398ae-f422-44de-8b73-8d39190aa94a",
   "metadata": {},
   "outputs": [
    {
     "data": {
      "text/plain": [
       "(224, 224, 3)"
      ]
     },
     "execution_count": 49,
     "metadata": {},
     "output_type": "execute_result"
    }
   ],
   "source": [
    "X[0].shape"
   ]
  },
  {
   "cell_type": "code",
   "execution_count": 62,
   "id": "01f042e3-fde4-4d20-bea4-5caaccb68a13",
   "metadata": {},
   "outputs": [],
   "source": [
    "response = requests.post(model_url, data=json.dumps({\"instances\": X.tolist()}))"
   ]
  },
  {
   "cell_type": "code",
   "execution_count": 66,
   "id": "be4f0d34-71a1-413c-88b8-265144596e41",
   "metadata": {},
   "outputs": [
    {
     "data": {
      "text/plain": [
       "[1.0, 6.1318073e-12]"
      ]
     },
     "execution_count": 66,
     "metadata": {},
     "output_type": "execute_result"
    }
   ],
   "source": [
    "response.json()['predictions'][0]"
   ]
  },
  {
   "cell_type": "code",
   "execution_count": 57,
   "id": "ff48e81e-a68f-4cc9-80a1-22edccbda3bd",
   "metadata": {},
   "outputs": [
    {
     "name": "stdout",
     "output_type": "stream",
     "text": [
      "{\n",
      " \"model_version_status\": [\n",
      "  {\n",
      "   \"version\": \"1\",\n",
      "   \"state\": \"AVAILABLE\",\n",
      "   \"status\": {\n",
      "    \"error_code\": \"OK\",\n",
      "    \"error_message\": \"\"\n",
      "   }\n",
      "  }\n",
      " ]\n",
      "}\n"
     ]
    },
    {
     "name": "stderr",
     "output_type": "stream",
     "text": [
      "  % Total    % Received % Xferd  Average Speed   Time    Time     Time  Current\n",
      "                                 Dload  Upload   Total   Spent    Left  Speed\n",
      "\n",
      "  0     0    0     0    0     0      0      0 --:--:-- --:--:-- --:--:--     0\n",
      "100   154  100   154    0     0    835      0 --:--:-- --:--:-- --:--:--   836\n"
     ]
    }
   ],
   "source": [
    "!curl http://localhost:8501/v1/models/cats_and_dogs"
   ]
  },
  {
   "cell_type": "code",
   "execution_count": 68,
   "id": "39c03e76-3f06-4f1b-95c6-77fcb3a327c5",
   "metadata": {},
   "outputs": [
    {
     "name": "stdout",
     "output_type": "stream",
     "text": [
      "{'cat': 1.0, 'dog': 6.1318073e-12}\n"
     ]
    }
   ],
   "source": [
    "!python gateway.py"
   ]
  }
 ],
 "metadata": {
  "kernelspec": {
   "display_name": "Python 3 (ipykernel)",
   "language": "python",
   "name": "python3"
  },
  "language_info": {
   "codemirror_mode": {
    "name": "ipython",
    "version": 3
   },
   "file_extension": ".py",
   "mimetype": "text/x-python",
   "name": "python",
   "nbconvert_exporter": "python",
   "pygments_lexer": "ipython3",
   "version": "3.8.18"
  }
 },
 "nbformat": 4,
 "nbformat_minor": 5
}
